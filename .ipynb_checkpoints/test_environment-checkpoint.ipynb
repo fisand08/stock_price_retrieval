{
 "cells": [
  {
   "cell_type": "code",
   "execution_count": 9,
   "id": "b836becb-c17b-4b96-8e0b-9727c7879e2f",
   "metadata": {},
   "outputs": [],
   "source": [
    "from get_stock_price import handler, get_current_data\n",
    "import pandas as pd\n",
    "import os\n",
    "import requests"
   ]
  },
  {
   "cell_type": "code",
   "execution_count": 10,
   "id": "a162dac8-eb7c-4775-beb8-b5cf6186b35b",
   "metadata": {},
   "outputs": [
    {
     "data": {
      "text/plain": [
       "<Response [404]>"
      ]
     },
     "execution_count": 10,
     "metadata": {},
     "output_type": "execute_result"
    }
   ],
   "source": [
    "requests.get('https://finance.yahoo.com/quote/NOV.DE')"
   ]
  },
  {
   "cell_type": "code",
   "execution_count": 11,
   "id": "f1c571bc-15ee-48ca-af10-3264bfede0ec",
   "metadata": {},
   "outputs": [
    {
     "data": {
      "text/plain": [
       "<Response [200]>"
      ]
     },
     "execution_count": 11,
     "metadata": {},
     "output_type": "execute_result"
    }
   ],
   "source": [
    "requests.get('https://finance.yahoo.com/quote/NVS/?p=NVS')\n"
   ]
  },
  {
   "cell_type": "code",
   "execution_count": 12,
   "id": "df595b4a-a5ec-48f5-b3d5-cacb9b10442a",
   "metadata": {},
   "outputs": [
    {
     "data": {
      "text/plain": [
       "<Response [200]>"
      ]
     },
     "execution_count": 12,
     "metadata": {},
     "output_type": "execute_result"
    }
   ],
   "source": [
    "requests.get('https://finance.yahoo.com/quote/ROG.SW/?p=ROG.SW')"
   ]
  },
  {
   "cell_type": "code",
   "execution_count": 7,
   "id": "20f46472-8ba6-43ba-aa1b-5a17b7e51d94",
   "metadata": {},
   "outputs": [
    {
     "name": "stdout",
     "output_type": "stream",
     "text": [
      "*** retrieving current stock data from https://finance.yahoo.com/quote/NVS/?p=NVS\n",
      "Status:200\n"
     ]
    },
    {
     "data": {
      "text/plain": [
       "('Novartis AG (NVS)',\n",
       " 'NYSE ',\n",
       " 'USD',\n",
       " 93.52,\n",
       " 94.34,\n",
       " 2099603.0,\n",
       " 193408000000.0,\n",
       " 3.78,\n",
       " 4.04)"
      ]
     },
     "execution_count": 7,
     "metadata": {},
     "output_type": "execute_result"
    }
   ],
   "source": [
    "get_current_data('NVS',True)"
   ]
  },
  {
   "cell_type": "code",
   "execution_count": 8,
   "id": "5f01632c-6754-4828-86b2-87b53cf73827",
   "metadata": {},
   "outputs": [
    {
     "name": "stdout",
     "output_type": "stream",
     "text": [
      "*** retrieving current stock data from https://finance.yahoo.com/quote/NOV.DE/?p=NOV.DE\n",
      "Status:404\n"
     ]
    },
    {
     "data": {
      "text/plain": [
       "(nan, nan, nan, nan, nan, nan, nan, nan, nan)"
      ]
     },
     "execution_count": 8,
     "metadata": {},
     "output_type": "execute_result"
    }
   ],
   "source": [
    "get_current_data('NOV.DE',True)"
   ]
  },
  {
   "cell_type": "code",
   "execution_count": 2,
   "id": "d413dbd2-ff2d-4948-9e8c-ac31b02f3d18",
   "metadata": {},
   "outputs": [
    {
     "name": "stdout",
     "output_type": "stream",
     "text": [
      "*** retrieving current stock data from https://finance.yahoo.com/quote/NOV.DE/?p=NOV.DE\n",
      "Status:404\n",
      "stock_id NOV.DE  full_name nan  market nan currency nan\n"
     ]
    },
    {
     "ename": "AttributeError",
     "evalue": "'float' object has no attribute 'strip'",
     "output_type": "error",
     "traceback": [
      "\u001b[1;31m---------------------------------------------------------------------------\u001b[0m",
      "\u001b[1;31mAttributeError\u001b[0m                            Traceback (most recent call last)",
      "Cell \u001b[1;32mIn[2], line 2\u001b[0m\n\u001b[0;32m      1\u001b[0m stock_input_file \u001b[38;5;241m=\u001b[39m \u001b[38;5;124m'\u001b[39m\u001b[38;5;124mstock_input_short.txt\u001b[39m\u001b[38;5;124m'\u001b[39m\n\u001b[1;32m----> 2\u001b[0m \u001b[43mhandler\u001b[49m\u001b[43m(\u001b[49m\u001b[38;5;28;43;01mTrue\u001b[39;49;00m\u001b[43m,\u001b[49m\u001b[43m \u001b[49m\u001b[43mstock_input_file\u001b[49m\u001b[43m)\u001b[49m\n",
      "File \u001b[1;32m~\\OneDrive - DSM\\Documents\\PRIV\\stocks\\get_stock_price.py:45\u001b[0m, in \u001b[0;36mhandler\u001b[1;34m(verbose, stock_input_file)\u001b[0m\n\u001b[0;32m     40\u001b[0m full_name, market, currency, current_price, prev_close, volume, market_cap, dividend_value, dividend_percent \u001b[38;5;241m=\u001b[39m get_current_data(stock_id, verbose)\n\u001b[0;32m     41\u001b[0m \u001b[38;5;28mprint\u001b[39m(\u001b[38;5;124mf\u001b[39m\u001b[38;5;124m'\u001b[39m\u001b[38;5;124mstock_id \u001b[39m\u001b[38;5;132;01m{\u001b[39;00mstock_id\u001b[38;5;132;01m}\u001b[39;00m\u001b[38;5;124m  full_name \u001b[39m\u001b[38;5;132;01m{\u001b[39;00mfull_name\u001b[38;5;132;01m}\u001b[39;00m\u001b[38;5;124m  market \u001b[39m\u001b[38;5;132;01m{\u001b[39;00mmarket\u001b[38;5;132;01m}\u001b[39;00m\u001b[38;5;124m currency \u001b[39m\u001b[38;5;132;01m{\u001b[39;00mcurrency\u001b[38;5;132;01m}\u001b[39;00m\u001b[38;5;124m'\u001b[39m)\n\u001b[0;32m     42\u001b[0m new_line \u001b[38;5;241m=\u001b[39m pd\u001b[38;5;241m.\u001b[39mDataFrame({\n\u001b[0;32m     43\u001b[0m     \u001b[38;5;124m\"\u001b[39m\u001b[38;5;124mSTOCK_ID\u001b[39m\u001b[38;5;124m\"\u001b[39m:[stock_id\u001b[38;5;241m.\u001b[39mstrip()],\n\u001b[0;32m     44\u001b[0m     \u001b[38;5;124m\"\u001b[39m\u001b[38;5;124mSTOCK_NAME\u001b[39m\u001b[38;5;124m\"\u001b[39m: [\u001b[38;5;28mstr\u001b[39m(full_name)\u001b[38;5;241m.\u001b[39mstrip()],\n\u001b[1;32m---> 45\u001b[0m     \u001b[38;5;124m\"\u001b[39m\u001b[38;5;124mMARKET\u001b[39m\u001b[38;5;124m\"\u001b[39m: [\u001b[43mmarket\u001b[49m\u001b[38;5;241;43m.\u001b[39;49m\u001b[43mstrip\u001b[49m()],\n\u001b[0;32m     46\u001b[0m     \u001b[38;5;124m\"\u001b[39m\u001b[38;5;124mCURRENCY\u001b[39m\u001b[38;5;124m\"\u001b[39m: [currency\u001b[38;5;241m.\u001b[39mstrip()]\n\u001b[0;32m     47\u001b[0m })\n\u001b[0;32m     48\u001b[0m df_stocks \u001b[38;5;241m=\u001b[39m pd\u001b[38;5;241m.\u001b[39mconcat([df_stocks,new_line], ignore_index\u001b[38;5;241m=\u001b[39m\u001b[38;5;28;01mTrue\u001b[39;00m)\n\u001b[0;32m     49\u001b[0m \u001b[38;5;66;03m# historic data\u001b[39;00m\n",
      "\u001b[1;31mAttributeError\u001b[0m: 'float' object has no attribute 'strip'"
     ]
    }
   ],
   "source": [
    "stock_input_file = 'stock_input_short.txt'\n",
    "handler(True, stock_input_file)"
   ]
  }
 ],
 "metadata": {
  "kernelspec": {
   "display_name": "Python 3 (ipykernel)",
   "language": "python",
   "name": "python3"
  },
  "language_info": {
   "codemirror_mode": {
    "name": "ipython",
    "version": 3
   },
   "file_extension": ".py",
   "mimetype": "text/x-python",
   "name": "python",
   "nbconvert_exporter": "python",
   "pygments_lexer": "ipython3",
   "version": "3.11.5"
  }
 },
 "nbformat": 4,
 "nbformat_minor": 5
}
