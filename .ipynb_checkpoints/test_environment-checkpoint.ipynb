{
 "cells": [
  {
   "cell_type": "code",
   "execution_count": 1,
   "id": "b836becb-c17b-4b96-8e0b-9727c7879e2f",
   "metadata": {},
   "outputs": [],
   "source": [
    "from get_stock_price import get_current_data,get_historic_data"
   ]
  },
  {
   "cell_type": "code",
   "execution_count": 2,
   "id": "d3489540-4bc6-4aa5-85d7-772eed65445c",
   "metadata": {},
   "outputs": [
    {
     "data": {
      "text/plain": [
       "['NVDA.NE', 'NVS', 'ROG.SW', 'SNY', 'GSK', 'AZN']"
      ]
     },
     "execution_count": 2,
     "metadata": {},
     "output_type": "execute_result"
    }
   ],
   "source": [
    "f_o = open('stock_input.txt','r')\n",
    "f_c = f_o.read().split('\\n')\n",
    "f_c"
   ]
  },
  {
   "cell_type": "code",
   "execution_count": 3,
   "id": "0cc18d0d-df73-4361-9c73-00b3076ef421",
   "metadata": {},
   "outputs": [
    {
     "data": {
      "text/plain": [
       "'NVS'"
      ]
     },
     "execution_count": 3,
     "metadata": {},
     "output_type": "execute_result"
    }
   ],
   "source": [
    "f_c[1]"
   ]
  },
  {
   "cell_type": "code",
   "execution_count": 4,
   "id": "053a2e64-6c5b-4edd-960d-bf5d84826f1d",
   "metadata": {},
   "outputs": [
    {
     "name": "stdout",
     "output_type": "stream",
     "text": [
      "*** Fetching historic data from https://finance.yahoo.com/quote/NVS/history?p=NVS\n",
      "dropdown text:Feb 26, 2023 - Feb 26, 2024\n"
     ]
    }
   ],
   "source": [
    "get_historic_data('NVS',True)"
   ]
  },
  {
   "cell_type": "markdown",
   "id": "47021385-72af-48ae-a739-d85f04e04ff6",
   "metadata": {},
   "source": [
    "for stock in f_c:\n",
    "    x = get_current_data(stock,True)\n",
    "    print(x)"
   ]
  },
  {
   "cell_type": "code",
   "execution_count": null,
   "id": "44a0cdbb-aa5d-49a5-9855-560bce85c11f",
   "metadata": {},
   "outputs": [],
   "source": []
  }
 ],
 "metadata": {
  "kernelspec": {
   "display_name": "Python 3 (ipykernel)",
   "language": "python",
   "name": "python3"
  },
  "language_info": {
   "codemirror_mode": {
    "name": "ipython",
    "version": 3
   },
   "file_extension": ".py",
   "mimetype": "text/x-python",
   "name": "python",
   "nbconvert_exporter": "python",
   "pygments_lexer": "ipython3",
   "version": "3.11.5"
  }
 },
 "nbformat": 4,
 "nbformat_minor": 5
}
